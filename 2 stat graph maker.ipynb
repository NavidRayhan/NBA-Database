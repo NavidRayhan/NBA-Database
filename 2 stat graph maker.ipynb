{
 "cells": [
  {
   "cell_type": "code",
   "execution_count": 2,
   "metadata": {},
   "outputs": [
    {
     "name": "stdout",
     "output_type": "stream",
     "text": [
      "Graph any 2 stats/ combination of stats! \n",
      "Key:\n",
      " BASIC STATS :           ADVANCED STATS:  \n",
      "        Year = calyear;               PER = PER\n",
      "        Player Name = Player          TS% = TS\n",
      "        Position = Pos                3PAr = TPAr\n",
      "        Age = Age                     FTr = FTr \n",
      "        Games Played = G              ORB% = ORBper\n",
      "        Minutes Played = MP           DRB% = DRBper\n",
      "        FGM = FG                      TRB% = TRBper\n",
      "        FGA = FGA                     AST% = ASTper\n",
      "        FG% = FG_perc                 STL% = STLper\n",
      "        3PM = m_3P                    BLK% = BLKper\n",
      "        3PA = a_3P                    TOV% = TOVper\n",
      "        3P% = perc_3P                 USG% = USG\n",
      "        2PM = m_2P                    OWS = OWS\n",
      "        2PA = a_2P                    DWS = DWS\n",
      "        2P% = perc_2P                 WS/48 = WS48\n",
      "        eFG% = eFG                    OBPM = OBPM \n",
      "        FTM = FT                      DBPM = DPBM\n",
      "        FTA = FTA                     BPM = BPM\n",
      "        FT% = perc_FT                 VORP = VORP\n",
      "        STL = STL                     ORB = ORB\n",
      "        BLK = BLK                     DRB = DRB\n",
      "        TOV = TOV                     TRB =TRB\n",
      "        PF = PF                       AST= AST\n",
      "        Points = Points\n",
      "Which 2 stats would you like to compare (seperate with comma)? Age, AVG(OWS/48)\n",
      "Enter 0-5 conditions (seperate with comma) MP > 20, Pos = \"PG\"\n",
      "Group by (For nothing press Enter) ?Age\n",
      "Order by which stat?Age\n",
      "ascending or descending?asc\n"
     ]
    },
    {
     "data": {
      "image/png": "[encoded data removed]",
      "text/plain": [
       "<Figure size 432x288 with 1 Axes>"
      ]
     },
     "metadata": {
      "needs_background": "light"
     },
     "output_type": "display_data"
    }
   ],
   "source": [
    "#SQL QUERIES used to connfigure the data further :\n",
    "from createdb import *\n",
    "from advanced_db import *\n",
    "from matplotlib import pyplot as plt \n",
    "import numpy as np\n",
    "\n",
    "#function combining all basic and advanced stats data\n",
    "def combine_basic_and_adv():  \n",
    "    with conn:\n",
    "        cursor.execute(\"DROP TABLE if exists all_stats_reg_szn\") #Can reset the table with this line \n",
    "        cursor.execute(\"\"\"CREATE TABLE if not exists all_stats_reg_szn as SELECT * from all_basic_stats \n",
    "                inner join all_advanced_stats on all_basic_stats.calyear = all_advanced_stats.calyear \n",
    "                and all_basic_stats.Player = all_advanced_stats.Player\"\"\")\n",
    "#combine_basic_and_adv()\n",
    "\n",
    "#function that takes the first and second coloumns of the SQL query and returns plot \n",
    "def make_graph(xlabel, ylabel, title):\n",
    "    players_list =cursor.fetchall()\n",
    "    xvar =[]; yvar = []\n",
    "    for row in players_list:\n",
    "        xvar.append(row[0])\n",
    "        yvar.append(row[1])\n",
    "    fig, ax = plt.subplots(nrows=1, ncols=1)\n",
    "    ax.set_facecolor(\"xkcd:very light pink\")\n",
    "    plt.rcParams['figure.figsize'] = [11, 9]\n",
    "    plt.plot (xvar, yvar, \"k.\")\n",
    "    plt.xticks(np.arange(min(xvar), max(xvar)+1, 1.0))\n",
    "    plt.xlabel(xlabel, fontsize=18)\n",
    "    plt.ylabel(ylabel, fontsize=18)\n",
    "    plt.title(title,fontsize = 22)\n",
    "    plt.show()\n",
    "\n",
    "def instructions():\n",
    "    print(\"Graph any 2 stats/ combination of stats! \")\n",
    "    print(\"Key:\")\n",
    "    print(\"\"\" BASIC STATS :           ADVANCED STATS:  \n",
    "        Year = calyear;               PER = PER\n",
    "        Player Name = Player          TS% = TS\n",
    "        Position = Pos                3PAr = TPAr\n",
    "        Age = Age                     FTr = FTr \n",
    "        Games Played = G              ORB% = ORBper\n",
    "        Minutes Played = MP           DRB% = DRBper\n",
    "        FGM = FG                      TRB% = TRBper\n",
    "        FGA = FGA                     AST% = ASTper\n",
    "        FG% = FG_perc                 STL% = STLper\n",
    "        3PM = m_3P                    BLK% = BLKper\n",
    "        3PA = a_3P                    TOV% = TOVper\n",
    "        3P% = perc_3P                 USG% = USG\n",
    "        2PM = m_2P                    OWS = OWS\n",
    "        2PA = a_2P                    DWS = DWS\n",
    "        2P% = perc_2P                 WS/48 = WS48\n",
    "        eFG% = eFG                    OBPM = OBPM \n",
    "        FTM = FT                      DBPM = DPBM\n",
    "        FTA = FTA                     BPM = BPM\n",
    "        FT% = perc_FT                 VORP = VORP\n",
    "        STL = STL                     ORB = ORB\n",
    "        BLK = BLK                     DRB = DRB\n",
    "        TOV = TOV                     TRB =TRB\n",
    "        PF = PF                       AST= AST\n",
    "        Points = Points\"\"\")\n",
    "    \n",
    "def prompt_user():#function to ask user to input bounds and conditions of the data to be graphed\n",
    "    stat1, stat2 = input(\"Which 2 stats would you like to compare (seperate with comma)? \").split(',')\n",
    "    con = list(input(\"Enter 0-5 conditions (seperate with comma) \").split(','))\n",
    "    while len(con) < 5:\n",
    "        con.append(\"\")\n",
    "    i = 1 \n",
    "    while i < len(con):\n",
    "        if con[i] != \"\":\n",
    "            con[i] = \" and \"+ con[i] \n",
    "        i +=1\n",
    "    if con[0] != \"\":\n",
    "        con[0] =  \"where \"+ con[0]\n",
    "    group_by = list(input(\"Group by (For nothing press Enter) ?\").split())\n",
    "    if len(group_by) != 0:\n",
    "        group_by[0] = \"group by {}\".format(group_by[0])\n",
    "    else: group_by = [\"\"]\n",
    " \n",
    "    order_by = str(input(\"Order by which stat?\"))\n",
    "    asc_or_desc = input(\"ascending or descending?\")\n",
    "    \n",
    "    cursor.execute(\"\"\"SELECT {}, {} from all_stats_reg_szn {}{}{}{}{} {} order by {} {}  \"\"\"\n",
    "    .format(stat1,stat2,con[0],con[1],con[2],con[3],con[4], group_by[0], order_by, asc_or_desc))\n",
    "    conn.commit()\n",
    "    make_graph(stat1, stat2, \"{} vs. {} {}.\".format(stat1, stat2, \"{}{}{}{}{}\".format(con[0],con[1],con[2],con[3],con[4])))\n",
    "\n",
    "    \n",
    "instructions()\n",
    "prompt_user()\n",
    "\n",
    "\n",
    "\n"
   ]
  },
  {
   "cell_type": "code",
   "execution_count": null,
   "metadata": {},
   "outputs": [],
   "source": [
    "\n",
    "\n"
   ]
  },
  {
   "cell_type": "code",
   "execution_count": null,
   "metadata": {},
   "outputs": [],
   "source": []
  },
  {
   "cell_type": "code",
   "execution_count": null,
   "metadata": {},
   "outputs": [],
   "source": []
  },
  {
   "cell_type": "code",
   "execution_count": null,
   "metadata": {},
   "outputs": [],
   "source": []
  }
 ],
 "metadata": {
  "kernelspec": {
   "display_name": "Python 3",
   "language": "python",
   "name": "python3"
  },
  "language_info": {
   "codemirror_mode": {
    "name": "ipython",
    "version": 3
   },
   "file_extension": ".py",
   "mimetype": "text/x-python",
   "name": "python",
   "nbconvert_exporter": "python",
   "pygments_lexer": "ipython3",
   "version": "3.7.2"
  }
 },
 "nbformat": 4,
 "nbformat_minor": 2
}
